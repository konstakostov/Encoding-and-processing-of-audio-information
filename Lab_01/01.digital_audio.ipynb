{
 "cells": [
  {
   "cell_type": "markdown",
   "metadata": {},
   "source": [
    "## ***I. Aудио информация в цифров вид***"
   ]
  },
  {
   "cell_type": "markdown",
   "metadata": {},
   "source": [
    "#### Import required libraries"
   ]
  },
  {
   "cell_type": "code",
   "execution_count": 23,
   "metadata": {
    "ExecuteTime": {
     "end_time": "2024-10-05T14:51:19.792822Z",
     "start_time": "2024-10-05T14:51:18.923581Z"
    }
   },
   "outputs": [],
   "source": [
    "import numpy as np\n",
    "from IPython.display import Audio\n",
    "import matplotlib.pyplot as plt"
   ]
  },
  {
   "cell_type": "markdown",
   "metadata": {},
   "source": [
    "### Генериране на синусоиден сигнал\n",
    "\n",
    "##### **Стъпка 1. Задаване на стойности на параметрите на вълната**\n",
    "- Честота (frequency): Честота на генерираната вълна;\n",
    "- Честота на дискретизация (sampling_rate): Препоръчително стойности са 44 100 Hz и 48 000 Hz.\n",
    "- Продължителност (duration): Продължителност на генерираната вълна в секунди.\n",
    "\n",
    "##### **Стъпка 2. Time Array**\n",
    "Масив, определящ моментите във времето в които се записва амплитудата на вълната. Използва се, за представяне на вълната по x-оста.\n",
    "\n",
    "***Пример:***\n",
    "При параметрите ```duration = 1 [s]``` и ```sampling_rate = 1000 [samples/s]```, масивът ще съдържа 1000 точки, разпределени равномерно в диапазон от 1 секунда.\n",
    "\n",
    "\n",
    "##### **Стъпка 3. Генериране на синусоидната вълна**\n",
    "Масив, съдържащ информация за стойностите на амплитудите на вълната в различни точки на времето. Представлява генерираната синусоидна вълна.\n",
    "\n",
    "\n",
    "##### **Стъпка 4. Възпроизвеждане на синусоидната вълна**\n",
    "Генерираната синусоидна вълна се възпроизвежда."
   ]
  },
  {
   "cell_type": "code",
   "execution_count": null,
   "metadata": {
    "ExecuteTime": {
     "end_time": "2024-10-05T14:52:34.726775Z",
     "start_time": "2024-10-05T14:52:34.234748Z"
    }
   },
   "outputs": [],
   "source": [
    "# Value in Hz\n",
    "frequency = ?\n",
    "\n",
    "# Value in samples/s\n",
    "sampling_rate = ?\n",
    "\n",
    "# Value in s\n",
    "duration = ?\n",
    "\n",
    "# Create a time array (x-axis)\n",
    "time_array_sin = np.linspace(0, duration, int(sampling_rate * duration), endpoint=False)\n",
    "\n",
    "\"\"\"\n",
    "endpoint=False -> The stop value is excluded from the array.\n",
    "(Array contains values from 0 up to just before duration value)\n",
    "\"\"\"\n",
    "\n",
    "# Generate the sine wave (y-axis)\n",
    "sine_wave = np.sin(2 * np.pi * frequency * time_array_sin)\n",
    "\n",
    "# Play the sine wave\n",
    "Audio(sine_wave, rate=sampling_rate)"
   ]
  },
  {
   "cell_type": "markdown",
   "metadata": {},
   "source": [
    "### Генериране на акорд\n",
    "\n",
    "\n",
    "##### **Стъпка 1. Задаване на стойности на параметрите на акорда**\n",
    "- Честоти (frequencies): Списък от стойности на честотите, изграждащи акорда.\n",
    "\n",
    "\n",
    "##### **Стъпка 2. Time Array**\n",
    "\n",
    "\n",
    "##### **Стъпка 3. Генериране на синусоидните вълни**\n",
    "\n",
    "\n",
    "##### **Стъпка 4. Образуване на акорда**\n",
    "Акорда се образува от сумиране на всички генерирани ноти. \n",
    "\n",
    "\n",
    "##### **Стъпка 5. Нормализиране на резултата**\n",
    "Полученият резултат (акорда) се нормализира, за да се избегнат нежелани ефекти, като отрязване на формата на сигнала (clipping).\n",
    "\n",
    "##### **Стъпка 6. Възпроизвеждане на акорда**\n",
    "Генерираният акорд се възпроизвежда."
   ]
  },
  {
   "cell_type": "markdown",
   "metadata": {},
   "source": [
    "#### Note Frequencies\n",
    "| Note | 0       | 1       | 2       | 3       | 4       | 5       | 6       | 7       | 8       |\n",
    "|------|---------|---------|---------|---------|---------|---------|---------|---------|---------|\n",
    "| C    | 16.35   | 32.7    | 65.41   | 130.81  | 261.63  | 523.25  | 1046.5  | 2093    | 4186    |\n",
    "| C#   | 17.32   | 34.65   | 69.3    | 138.59  | 277.18  | 554.37  | 1108.73 | 2217.46 | 4434.92 |\n",
    "| D    | 18.35   | 36.71   | 73.42   | 146.83  | 293.66  | 587.33  | 1174.66 | 2349.32 | 4698.63 |\n",
    "| D#   | 19.45   | 38.89   | 77.78   | 155.56  | 311.13  | 622.25  | 1244.51 | 2489    | 4978    |\n",
    "| E    | 20.6    | 41.2    | 82.41   | 164.81  | 329.63  | 659.25  | 1318.51 | 2637    | 5274    |\n",
    "| F    | 21.83   | 43.65   | 87.31   | 174.61  | 349.23  | 698.46  | 1396.91 | 2793.83 | 5587.65 |\n",
    "| F#   | 23.12   | 46.25   | 92.5    | 185     | 369.99  | 739.99  | 1479.98 | 2959.96 | 5919.91 |\n",
    "| G    | 24.5    | 49      | 98      | 196     | 392     | 783.99  | 1567.98 | 3135.96 | 6271.93 |\n",
    "| G#   | 25.96   | 51.91   | 103.83  | 207.65  | 415.3   | 830.61  | 1661.22 | 3322.44 | 6644.88 |\n",
    "| A    | 27.5    | 55      | 110     | 220     | 440     | 880     | 1760    | 3520    | 7040    |\n",
    "| A#   | 29.14   | 58.27   | 116.54  | 233.08  | 466.16  | 932.33  | 1864.66 | 3729.31 | 7458.62 |\n",
    "| B    | 30.87   | 61.74   | 123.47  | 246.94  | 493.88  | 987.77  | 1975.53 | 3951    | 7902.13 |\n",
    "\n",
    "\n",
    "#### Notes in Chords (Major, Minor, 7th, Aug)\n",
    "| Chord      | Major         | Minor          | 7th            | Aug (+)       |\n",
    "|------------|---------------|----------------|-----------------|---------------|\n",
    "| C          | C, E, G      | C, Eb, G       | Bb              | C, E, G#      |\n",
    "| Db/C#      | Db, F, Ab    | Db, E, Ab      | B               | Db, F, A      |\n",
    "| D          | D, F#, A     | D, F, A        | C               | D, F#, Bb     |\n",
    "| Eb/D#      | Eb, G, Bb    | Eb, Gb, Bb     | Db              | Eb, G, B      |\n",
    "| E          | E, G#, B     | E, G, B        | D               | E, G#, C      |\n",
    "| F          | F, A, C      | F, Ab, C       | Eb              | F, A, C#      |\n",
    "| Gb/F#      | Gb, Bb, Db   | Gb, A, Db      | E               | Gb, Bb, D     |\n",
    "| G          | G, B, D      | G, Bb, D       | F               | G, B, D#      |\n",
    "| Ab/G#      | Ab, C, Eb    | Ab, B, Eb      | F#              | Ab, C, E      |\n",
    "| A          | A, C#, E     | A, C, E        | G               | A, C#, F      |\n",
    "| Bb/A#      | Bb, D, F     | Bb, Db, F      | Ab              | Bb, D, Gb     |\n",
    "| B          | B, D#, F#    | B, D, F#       | A               | B, D#, G      |"
   ]
  },
  {
   "cell_type": "code",
   "execution_count": null,
   "metadata": {},
   "outputs": [],
   "source": [
    "# Value in Hz\n",
    "frequencies = [?, ?, ?]     # Chord: [Note, Note, Note]\n",
    "\n",
    "# Value in samples/s\n",
    "sampling_rate = ?\n",
    "\n",
    "# Value in s\n",
    "duration = ?\n",
    "\n",
    "# Create time array\n",
    "time_array_chord = np.linspace(0, duration, int(sampling_rate * duration), endpoint=False)\n",
    "\n",
    "# Generate the sine wave\n",
    "sine_waves = [np.sin(2 * np.pi * freq * time_array_chord) for freq in frequencies]\n",
    "\n",
    "# Sum the sine waves to create the chord\n",
    "chord = sum(sine_waves)\n",
    "\n",
    "# Normalize the result\n",
    "chord = chord / len(frequencies)\n",
    "\n",
    "# Play the chord\n",
    "Audio(chord, rate=sampling_rate) # <-- Complete the line!\n"
   ]
  },
  {
   "cell_type": "markdown",
   "metadata": {},
   "source": [
    "#### Генериране на кратка мелодия\n",
    "\n",
    "##### **Стъпка 1. Задаване на стойности на параметрите мелодията**\n",
    "- Акорди (chords): Речник от акордите и нотите, които ги изграждат;\n",
    "- Продължителност на всеки акорд (chord_duration): Задава каква е продължителността на възпроизвеждане на всеки един акорд в секунди.\n",
    "\n",
    "\n",
    "##### **Стъпка 2. Time Array:**\n",
    "\n",
    "\n",
    "##### **Стъпка 3. Генериране на синусоидните вълни**\n",
    "\n",
    "\n",
    "##### **Стъпка 4. Образуване на акордите и нормализирането на резултата**\n",
    "\n",
    "\n",
    "##### **Стъпка 5. Създаване на мелодия**\n",
    "Получените акорди се конкатенират за образуване на мелодията.\n",
    "\n",
    "\n",
    "#### **Стъпка 6. Принтира се матрица на генерираната мелодия**\n",
    "Принтира се матрицата, съдържаща стойностите образуващи генерираната мелодия.\n",
    "\n",
    "\n",
    "##### **Стъпка 7. Възпроизвеждане на акорда**\n",
    "Генерираната мелодия се възпроизвежда.\n"
   ]
  },
  {
   "cell_type": "code",
   "execution_count": null,
   "metadata": {},
   "outputs": [],
   "source": [
    "# Value in Hz\n",
    "chords = {\n",
    "    \"C_major\": [?, ?, ?]    # [?, ?, ?]\n",
    "    \"F_major\": [?, ?, ?]    # [?, ?, ?]\n",
    "    \"G_major\": [?, ?, ?]    # [?, ?, ?]\n",
    "    \"A_minor\": [?, ?, ?]    # [?, ?, ?]\n",
    "}\n",
    "\n",
    "# Value in samples/s\n",
    "sampling_rate = 44_100\n",
    "\n",
    "# Duration of each chord, value in s\n",
    "chord_duration = 0.5\n",
    "\n",
    "# Create time array for each accord\n",
    "time_array_melody = np.linspace(0, chord_duration, int(sampling_rate * chord_duration), endpoint=False)\n",
    "\n",
    "# Generate chord, Function\n",
    "def generate_chord(frequencies, time_array):\n",
    "    sine_waves = [np.sin(2 * np.pi * freq * time_array_melody) for freq in frequencies]\n",
    "    chord_wave = sum(sine_waves) / len(frequencies)\n",
    "\n",
    "    return chord_wave\n",
    "\n",
    "\n",
    "# Generate all chords\n",
    "C_major = generate_chord(chords[\"C_major\"], time_array_melody)\n",
    "F_major = generate_chord(chords[\"F_major\"], time_array_melody)\n",
    "G_major = generate_chord(chords[\"G_major\"], time_array_melody)\n",
    "A_minor = generate_chord(chords[\"A_minor\"], time_array_melody)\n",
    "\n",
    "# Create the melody\n",
    "melody = np.concatenate([C_major, F_major, G_major, A_minor])\n",
    "\n",
    "# Each row corresponds to one chord, and the columns represent points in time\n",
    "melody_matrix = np.vstack([C_major, F_major, G_major, A_minor])\n",
    "print(melody_matrix)\n",
    "\n",
    "# Play the melody\n",
    "Audio() # <-- Complete the line!\n"
   ]
  },
  {
   "cell_type": "markdown",
   "metadata": {},
   "source": [
    "#### Визуализация на генерираните сигнал, акорд и мелодия"
   ]
  },
  {
   "cell_type": "code",
   "execution_count": null,
   "metadata": {},
   "outputs": [],
   "source": [
    "# Plot the graph\n",
    "plt.figure(figsize=(8, 4))\n",
    "plt.plot(time_array_sin, sine_wave, color='black',)\n",
    "plt.title('Generated Sine Wave')\n",
    "plt.xlabel('Time [s]')\n",
    "plt.ylabel('Amplitude')\n",
    "plt.grid(True, which='both', linestyle='--', linewidth=0.5)  # Light grid for guidance\n",
    "plt.xlim(0, 1)  # Limit x-axis to show one second for clarity\n",
    "plt.ylim(-1.5, 1.5)  # Limit y-axis to make the sine wave visually centered\n",
    "plt.tight_layout()\n",
    "\n",
    "# Show the plot\n",
    "plt.show()"
   ]
  }
 ],
 "metadata": {
  "kernelspec": {
   "display_name": ".venv",
   "language": "python",
   "name": "python3"
  },
  "language_info": {
   "codemirror_mode": {
    "name": "ipython",
    "version": 3
   },
   "file_extension": ".py",
   "mimetype": "text/x-python",
   "name": "python",
   "nbconvert_exporter": "python",
   "pygments_lexer": "ipython3",
   "version": "3.12.3"
  }
 },
 "nbformat": 4,
 "nbformat_minor": 2
}
