{
 "cells": [
  {
   "cell_type": "markdown",
   "metadata": {},
   "source": [
    "## ***I. Цифрово аудио***"
   ]
  },
  {
   "cell_type": "markdown",
   "metadata": {},
   "source": [
    "#### Import required libraries"
   ]
  },
  {
   "cell_type": "code",
   "execution_count": 1,
   "metadata": {},
   "outputs": [],
   "source": [
    "import numpy as np\n",
    "from IPython.display import Audio"
   ]
  },
  {
   "cell_type": "markdown",
   "metadata": {},
   "source": [
    "### Генериране на синусоиден сигнал\n",
    "\n",
    "##### **Стъпка 1. Задаване на стойности на параметрите на вълната**\n",
    "- Честота (frequency): Честота на генерираната вълна;\n",
    "- Честота на дискретизация (sampling_rate): Препоръчително стойности са 44 100 Hz и 48 000 Hz.\n",
    "- Продължителност (duration): Продължителност на генерираната вълна в секунди.\n",
    "\n",
    "##### **Стъпка 2. Time Array**\n",
    "Масив, определящ моментите във времето в които се записва амплитудата на вълната. Използва се, за представяне на вълната по x-оста.\n",
    "\n",
    "***Пример:***\n",
    "При параметрите ```duration = 1 [s]``` и ```sampling_rate = 1000 [samples/s]```, масивът ще съдържа 1000 точки, разпределени равномерно в диапазон от 1 секунда.\n",
    "\n",
    "\n",
    "##### **Стъпка 3. Генериране на синусоидната вълна**\n",
    "Масив, съдържащ информация за стойностите на амплитудите на вълната в различни точки на времето. Представлява генерираната синусоидна вълна.\n",
    "\n",
    "\n",
    "##### **Стъпка 4. Възпроизвеждане на синусоидната вълна**\n",
    "Генерираната синусоидна вълна се възпроизвежда."
   ]
  },
  {
   "cell_type": "code",
   "execution_count": 2,
   "metadata": {},
   "outputs": [],
   "source": [
    "# Value in Hz\n",
    "frequency = ?\n",
    "\n",
    "# Value in samples/s\n",
    "sampling_rate = ?\n",
    "\n",
    "# Value in s\n",
    "duration = ?\n",
    "\n",
    "# Create time array (x-axis)\n",
    "time_array = np.linspace(0, duration, int(sampling_rate * duration), endpoint=False)\n",
    "\n",
    "\"\"\"\n",
    "endpoint=False -> The stop value is excluded from the array.\n",
    "(Array contains values from 0 up to just before duration value)\n",
    "\"\"\"\n",
    "\n",
    "# Generate the sine wave (y-axis)\n",
    "sine_wave = np.sin(2 * np.pi * frequency * time_array)\n",
    "\n",
    "# Play the sine wave\n",
    "Audio(sine_wave, rate=sampling_rate)"
   ]
  },
  {
   "cell_type": "markdown",
   "metadata": {},
   "source": [
    "### Генериране на акорд\n",
    "\n",
    "- <a href=\"https://muted.io/note-frequencies/\">Честоти на основните тонове в различни октави</a>\n",
    "- <a href=\"https://www.michael-thomas.com/music/class/chords_notesinchords.htm\">Ноти, изграждащи отделни акорди</a>\n",
    "\n",
    "\n",
    "##### **Стъпка 1. Задаване на стойности на параметрите на акорда**\n",
    "- Честоти (frequencies): Списък от стойности на честотите, изграждащи акорда.\n",
    "\n",
    "\n",
    "##### **Стъпка 2. Time Array**\n",
    "\n",
    "\n",
    "##### **Стъпка 3. Генериране на синусоидните вълни**\n",
    "\n",
    "\n",
    "##### **Стъпка 4. Образуване на акорда**\n",
    "Акорда се образува от сумиране на всички генерирани ноти. \n",
    "\n",
    "\n",
    "##### **Стъпка 5. Нормализиране на резултата**\n",
    "Полученият резултат (акорда) се нормализира, за да се избегнат нежелани ефекти, като отрязване на формата на сигнала (clipping).\n",
    "\n",
    "##### **Стъпка 6. Възпроизвеждане на акорда**\n",
    "Генерираният акорд се възпроизвежда."
   ]
  },
  {
   "cell_type": "code",
   "execution_count": null,
   "metadata": {},
   "outputs": [],
   "source": [
    "# Value in Hz\n",
    "frequencies = [?, ?, ?]     # Chord: [Note, Note, Note]\n",
    "\n",
    "# Value in samples/s\n",
    "sampling_rate = ?\n",
    "\n",
    "# Value in s\n",
    "duration = ?\n",
    "\n",
    "# Create time array\n",
    "time_array = np.linspace(0, duration, int(sampling_rate * duration), endpoint=False)\n",
    "\n",
    "# Generate the sine wave\n",
    "sine_waves = [np.sin(2 * np.pi * freq * time_array) for freq in frequencies]\n",
    "\n",
    "# Sum the sine waves to create the chord\n",
    "chord = sum(sine_waves)\n",
    "\n",
    "# Normalize the result\n",
    "chord = chord / len(frequencies)\n",
    "\n",
    "# Play the sine wave\n",
    "Audio() # <-- Complete the line!\n"
   ]
  },
  {
   "cell_type": "markdown",
   "metadata": {},
   "source": [
    "#### Генериране на кратка мелодия\n",
    "\n",
    "##### **Стъпка 1. Задаване на стойности на параметрите мелодията**\n",
    "- Акорди (chords): Речник от акордите и нотите, които ги изграждат;\n",
    "- Продължителност на всеки акорд (chord_duration): Задава каква е продължителността на възпроизвеждане на всеки един акорд в секунди.\n",
    "\n",
    "\n",
    "##### **Стъпка 2. Time Array:**\n",
    "\n",
    "\n",
    "##### **Стъпка 3. Генериране на синусоидните вълни**\n",
    "\n",
    "\n",
    "##### **Стъпка 4. Образуване на акордите и нормализирането на резултата**\n",
    "\n",
    "\n",
    "##### **Стъпка 5. Създаване на мелодия**\n",
    "Получените акорди се конкатенират за образуване на мелодията.\n",
    "\n",
    "\n",
    "#### **Стъпка 6. Принтира се матрица на генерираната мелодия**\n",
    "Принтира се матрицата, съдържаща стойностите образуващи генерираната мелодия.\n",
    "\n",
    "\n",
    "##### **Стъпка 7. Възпроизвеждане на акорда**\n",
    "Генерираната мелодия се възпроизвежда.\n"
   ]
  },
  {
   "cell_type": "code",
   "execution_count": null,
   "metadata": {},
   "outputs": [],
   "source": [
    "# Value in Hz\n",
    "chords = {\n",
    "    \"Chord_name\": [?, ?, ?],   # [?, ?, ?]\n",
    "    \"Chord_name\": [?, ?, ?],   # [?, ?, ?]\n",
    "    \"Chord_name\": [?, ?, ?],   # [?, ?, ?]\n",
    "    \"Chord_name\": [?, ?, ?]    # [?, ?, ?]\n",
    "}\n",
    "\n",
    "# Value in samples/s\n",
    "sampling_rate = 44_100\n",
    "\n",
    "# Duration of each chord, value in s\n",
    "chord_duration = 0.5\n",
    "\n",
    "# Create time array for each accord\n",
    "time_array = np.linspace(0, chord_duration, int(sampling_rate * chord_duration), endpoint=False)\n",
    "\n",
    "# Generate chord, Function\n",
    "def generate_chord(frequencies, time_array):\n",
    "    sine_waves = [np.sin(2 * np.pi * freq * time_array) for freq in frequencies]\n",
    "    chord_wave = sum(sine_waves) / len(frequencies)\n",
    "\n",
    "    return chord_wave\n",
    "\n",
    "\n",
    "# Generate all chords\n",
    "Chord_name = generate_chord(chords[\"Chord_name\"], time_array)\n",
    "Chord_name = generate_chord(chords[\"Chord_name\"], time_array)\n",
    "Chord_name = generate_chord(chords[\"Chord_name\"], time_array)\n",
    "Chord_name = generate_chord(chords[\"Chord_name\"], time_array)\n",
    "\n",
    "# Create the melody\n",
    "melody = np.concatenate([C_major, F_major, G_major, A_minor])\n",
    "\n",
    "# Each row corresponds to one chord, and the columns represent points in time\n",
    "melody_matrix = np.vstack([C_major, F_major, G_major, A_minor])\n",
    "print(melody_matrix)\n",
    "\n",
    "# Play the melody\n",
    "Audio() # <-- Complete the line!\n"
   ]
  },
  {
   "cell_type": "markdown",
   "metadata": {},
   "source": [
    "#### Визуализация на генерираните сигнал, акорд и мелодия"
   ]
  },
  {
   "cell_type": "code",
   "execution_count": null,
   "metadata": {},
   "outputs": [],
   "source": []
  }
 ],
 "metadata": {
  "kernelspec": {
   "display_name": ".venv",
   "language": "python",
   "name": "python3"
  },
  "language_info": {
   "codemirror_mode": {
    "name": "ipython",
    "version": 3
   },
   "file_extension": ".py",
   "mimetype": "text/x-python",
   "name": "python",
   "nbconvert_exporter": "python",
   "pygments_lexer": "ipython3",
   "version": "3.12.3"
  }
 },
 "nbformat": 4,
 "nbformat_minor": 2
}
