{
 "cells": [
  {
   "cell_type": "markdown",
   "metadata": {},
   "source": [
    "## ***II. Формати за съхранение на цифрово аудио***"
   ]
  },
  {
   "cell_type": "markdown",
   "metadata": {},
   "source": [
    "#### Import required libraries"
   ]
  },
  {
   "cell_type": "code",
   "execution_count": 3,
   "metadata": {},
   "outputs": [],
   "source": [
    "import numpy as np\n",
    "from scipy.io import wavfile\n",
    "import scipy.io.wavfile as wav\n",
    "import matplotlib.pyplot as plt\n",
    "from IPython.display import Audio\n",
    "from pydub import AudioSegment"
   ]
  },
  {
   "cell_type": "markdown",
   "metadata": {},
   "source": [
    "#### Поставете в клетка за код (отдолу), пълния код за генериране на мелодия от файл `01.digital_audio.ipynb`"
   ]
  },
  {
   "cell_type": "code",
   "execution_count": null,
   "metadata": {},
   "outputs": [],
   "source": [
    "# Insert code here!!!\n",
    "\n",
    "\n"
   ]
  },
  {
   "cell_type": "markdown",
   "metadata": {},
   "source": [
    "#### Запазване на генерираната мелодия като WAV файл\n",
    "\n",
    "##### **Стъпка 1. Преобразуване на стойностите на матрицата**\n",
    "`np.int16(melody_name * 32767` се използва за преобразуване на стойностите на матрицата от десетични числа (float) в цели, 16-битови, числа (integer). Допълнителна информация защо се използва това е достъпна на този <a href=\"https://www.mixinglessons.com/bit-depth/\">линк</a>.\n",
    "\n",
    "#### **Стъпка 2. Зазване на мелодията като WAV файл**\n",
    "Задава се име на файла, който да бъде запазен. Файлът се записва в директорията на проекта."
   ]
  },
  {
   "cell_type": "code",
   "execution_count": null,
   "metadata": {},
   "outputs": [],
   "source": [
    "# onvert the melody to 16-bit PCM format for saving to WAV\n",
    "melody_int16 = np.int16(melody * 32767)  # Convert to 16-bit integer values\n",
    "\n",
    "# Save the melody as a .wav file\n",
    "output_file = \"melody.wav\"\n",
    "wav.write(output_file, sampling_rate, melody_int16)\n",
    "\n",
    "print(f\"Melody saved to {output_file}\")"
   ]
  },
  {
   "cell_type": "markdown",
   "metadata": {},
   "source": [
    "#### Отваряне и изследване на генерираният WAV файл\n",
    "\n",
    "##### **Стъпка 1. Отваряне на генерираният WAV файл**\n",
    "Генерираният WAV файл се отваря и прочита.\n",
    "\n",
    "\n",
    "#### **Стъпка 2. Принтиране на основните параметри на WAV файла**\n",
    "- Честота на дискретизация;\n",
    "- Брой отчети (брой отчети в целия аудио файл);\n",
    "- Брой канали;\n",
    "- Bit Depth;\n",
    "- Продължителност."
   ]
  },
  {
   "cell_type": "code",
   "execution_count": null,
   "metadata": {},
   "outputs": [],
   "source": [
    "# Read the generated .wav file\n",
    "file_path = \"melody.wav\"\n",
    "sampling_rate, data = wav.read(file_path)\n",
    "\n",
    "\n",
    "# Print basic parameters\n",
    "print(f\"Sampling Rate: {sampling_rate} Hz\")\n",
    "\n",
    "print(f\"Number of Samples: {data.shape[0]}\")\n",
    "\n",
    "print(f\"Number of Channels: {data.shape[1] if len(data.shape) > 1 else 1}\")\n",
    "\n",
    "print(f\"Bit Depth: {data.dtype}\")\n",
    "\n",
    "duration = data.shape[0] / sampling_rate\n",
    "print(f\"Duration: {duration:.2f} seconds\")"
   ]
  },
  {
   "cell_type": "markdown",
   "metadata": {},
   "source": [
    "#### Преобразуване на WAV файл в MP3 файл\n",
    "\n",
    "##### **Стъпка 1. Отваряне на генерираният WAV файл**\n",
    "\n",
    "\n",
    "#### **Стъпка 2. Конвертиране в MP3 формат**"
   ]
  },
  {
   "cell_type": "code",
   "execution_count": null,
   "metadata": {},
   "outputs": [],
   "source": [
    "# Load the WAV file\n",
    "wav_file_path = \"melody.wav\"\n",
    "audio = AudioSegment.from_wav(wav_file_path)\n",
    "\n",
    "# Convert WAV to MP3\n",
    "mp3_file_path = \"melody.mp3\"\n",
    "audio.export(mp3_file_path, format=\"mp3\")\n",
    "print(f\"Converted to MP3: {mp3_file_path}\")\n"
   ]
  },
  {
   "cell_type": "markdown",
   "metadata": {},
   "source": [
    "#### Визуализация на генерираният WAV файл"
   ]
  },
  {
   "cell_type": "code",
   "execution_count": null,
   "metadata": {},
   "outputs": [],
   "source": [
    "# Read the audio signal from a WAV file\n",
    "file_path = 'melody.wav'  # Replace it with the path to your audio file\n",
    "sampling_rate, audio_data = wavfile.read(file_path)\n",
    "\n",
    "# # If the audio data has 2 channels (stereo), convert it to mono by averaging the channels\n",
    "# if len(audio_data.shape) == 2:\n",
    "#     audio_data = np.mean(audio_data, axis=1)\n",
    "\n",
    "# Create a time array for the x-axis (time)\n",
    "duration = len(audio_data) / sampling_rate\n",
    "time_array = np.linspace(0, duration, len(audio_data))\n",
    "\n",
    "# Plot the Amplitude-Time Graph (Waveform)\n",
    "plt.figure(figsize=(10, 4))\n",
    "plt.plot(time_array, audio_data,)\n",
    "plt.title('Amplitude-Time Graph (Waveform)')\n",
    "plt.xlabel('Time [s]')\n",
    "plt.ylabel('Amplitude')\n",
    "plt.grid(True)\n",
    "plt.tight_layout()\n",
    "plt.show()"
   ]
  }
 ],
 "metadata": {
  "kernelspec": {
   "display_name": ".venv",
   "language": "python",
   "name": "python3"
  },
  "language_info": {
   "codemirror_mode": {
    "name": "ipython",
    "version": 3
   },
   "file_extension": ".py",
   "mimetype": "text/x-python",
   "name": "python",
   "nbconvert_exporter": "python",
   "pygments_lexer": "ipython3",
   "version": "3.12.3"
  }
 },
 "nbformat": 4,
 "nbformat_minor": 2
}
