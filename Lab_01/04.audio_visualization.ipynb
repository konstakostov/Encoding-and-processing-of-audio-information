{
 "cells": [
  {
   "cell_type": "code",
   "execution_count": 1,
   "metadata": {},
   "outputs": [],
   "source": [
    "import numpy as np\n",
    "import matplotlib.pyplot as plt\n",
    "from scipy.io import wavfile"
   ]
  },
  {
   "cell_type": "code",
   "execution_count": null,
   "metadata": {},
   "outputs": [],
   "source": [
    "import numpy as np\n",
    "import matplotlib.pyplot as plt\n",
    "from scipy.io import wavfile\n",
    "\n",
    "# Read the audio signal from a WAV file\n",
    "file_path = 'melody.wav'  # Replace with the path to your audio file\n",
    "sampling_rate, audio_data = wavfile.read(file_path)\n",
    "\n",
    "# Create a time array for the x-axis (time)\n",
    "duration = len(audio_data) / sampling_rate\n",
    "time_array = np.linspace(0, duration, len(audio_data))\n",
    "\n",
    "# Plot the Amplitude-Time Graph (Waveform)\n",
    "plt.figure(figsize=(10, 4))\n",
    "plt.plot(time_array, audio_data, color='blue')\n",
    "plt.title('Amplitude-Time Graph (Waveform)')\n",
    "plt.xlabel('Time [s]')\n",
    "plt.ylabel('Amplitude')\n",
    "plt.grid(True)\n",
    "plt.tight_layout()\n",
    "plt.show()"
   ]
  },
  {
   "cell_type": "code",
   "execution_count": null,
   "metadata": {},
   "outputs": [],
   "source": [
    "import numpy as np\n",
    "import matplotlib.pyplot as plt\n",
    "from scipy.io import wavfile\n",
    "\n",
    "# Read the audio signal from a WAV file\n",
    "file_path = 'melody.wav'  # Replace with the path to your audio file\n",
    "sampling_rate, audio_data = wavfile.read(file_path)\n",
    "\n",
    "# Create a time array for the x-axis (time)\n",
    "duration = len(audio_data) / sampling_rate\n",
    "time_array = np.linspace(0, duration, len(audio_data))\n",
    "\n",
    "# Plot the Spectrogram using Matplotlib\n",
    "plt.figure(figsize=(10, 6))\n",
    "plt.specgram(audio_data, Fs=sampling_rate, NFFT=1024, noverlap=512, cmap='plasma')\n",
    "plt.title('Spectrogram')\n",
    "plt.xlabel('Time [s]')\n",
    "plt.ylabel('Frequency [Hz]')\n",
    "plt.colorbar(label='Intensity [dB]')\n",
    "plt.tight_layout()\n",
    "plt.show()\n"
   ]
  }
 ],
 "metadata": {
  "kernelspec": {
   "display_name": ".venv",
   "language": "python",
   "name": "python3"
  },
  "language_info": {
   "codemirror_mode": {
    "name": "ipython",
    "version": 3
   },
   "file_extension": ".py",
   "mimetype": "text/x-python",
   "name": "python",
   "nbconvert_exporter": "python",
   "pygments_lexer": "ipython3",
   "version": "3.12.3"
  }
 },
 "nbformat": 4,
 "nbformat_minor": 2
}
