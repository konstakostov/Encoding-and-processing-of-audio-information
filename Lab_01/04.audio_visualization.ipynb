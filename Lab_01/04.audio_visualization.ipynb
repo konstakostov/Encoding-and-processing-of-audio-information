{
 "cells": [
  {
   "cell_type": "code",
   "execution_count": 1,
   "metadata": {
    "ExecuteTime": {
     "end_time": "2024-10-05T14:42:29.127591Z",
     "start_time": "2024-10-05T14:42:28.389540Z"
    }
   },
   "outputs": [],
   "source": [
    "import numpy as np\n",
    "import matplotlib.pyplot as plt\n",
    "from scipy.io import wavfile"
   ]
  },
  {
   "cell_type": "code",
   "execution_count": null,
   "metadata": {
    "ExecuteTime": {
     "end_time": "2024-10-05T14:46:31.443564Z",
     "start_time": "2024-10-05T14:46:30.754078Z"
    }
   },
   "outputs": [],
   "source": [
    "# Read the audio signal from a WAV file\n",
    "file_path = 'melody.wav'  # Replace it with the path to your audio file\n",
    "sampling_rate, audio_data = wavfile.read(file_path)\n",
    "\n",
    "# # If the audio data has 2 channels (stereo), convert it to mono by averaging the channels\n",
    "# if len(audio_data.shape) == 2:\n",
    "#     audio_data = np.mean(audio_data, axis=1)\n",
    "\n",
    "# Create a time array for the x-axis (time)\n",
    "duration = len(audio_data) / sampling_rate\n",
    "time_array = np.linspace(0, duration, len(audio_data))\n",
    "\n",
    "# Plot the Amplitude-Time Graph (Waveform)\n",
    "plt.figure(figsize=(10, 4))\n",
    "plt.plot(time_array, audio_data)\n",
    "plt.title('Amplitude-Time Graph (Waveform)')\n",
    "plt.xlabel('Time [s]')\n",
    "plt.ylabel('Amplitude')\n",
    "plt.grid(True)\n",
    "plt.tight_layout()\n",
    "plt.show()"
   ]
  },
  {
   "cell_type": "code",
   "execution_count": null,
   "metadata": {
    "ExecuteTime": {
     "end_time": "2024-10-05T14:45:31.937910Z",
     "start_time": "2024-10-05T14:45:31.044787Z"
    }
   },
   "outputs": [],
   "source": [
    "# Read the audio signal from a WAV file\n",
    "file_path = 'melody.wav'  # Replace it with the path to your audio file\n",
    "sampling_rate, audio_data = wavfile.read(file_path)\n",
    "\n",
    "# If the audio data has 2 channels (stereo), convert it to mono by averaging the channels\n",
    "if len(audio_data.shape) == 2:\n",
    "    audio_data = np.mean(audio_data, axis=1)\n",
    "\n",
    "# Create a time array for the x-axis (time)\n",
    "duration = len(audio_data) / sampling_rate\n",
    "time_array = np.linspace(0, duration, len(audio_data))\n",
    "\n",
    "# Plot the Spectrogram using Matplotlib\n",
    "plt.figure(figsize=(10, 6))\n",
    "plt.specgram(audio_data, Fs=sampling_rate, NFFT=1024, noverlap=512, cmap='plasma')\n",
    "plt.title('Spectrogram')\n",
    "plt.xlabel('Time [s]')\n",
    "plt.ylabel('Frequency [Hz]')\n",
    "plt.colorbar(label='Intensity [dB]')\n",
    "plt.tight_layout()\n",
    "plt.show()\n"
   ]
  },
  {
   "cell_type": "code",
   "execution_count": null,
   "metadata": {
    "ExecuteTime": {
     "end_time": "2024-10-05T14:47:34.755792Z",
     "start_time": "2024-10-05T14:47:34.102322Z"
    }
   },
   "outputs": [],
   "source": [
    "# Read the audio signal from a WAV file\n",
    "file_path = 'melody.wav'  # Replace with the path to your audio file\n",
    "sampling_rate, audio_data = wavfile.read(file_path)\n",
    "\n",
    "# If the audio is stereo, convert it to mono\n",
    "if len(audio_data.shape) == 2:\n",
    "    audio_data = np.mean(audio_data, axis=1)\n",
    "\n",
    "# Create a time array for the x-axis (time)\n",
    "duration = len(audio_data) / sampling_rate\n",
    "time_array = np.linspace(0, duration, len(audio_data))\n",
    "\n",
    "# Plot the Amplitude-Time graph using Matplotlib\n",
    "plt.figure(figsize=(8, 4))  # Simple and clean figure size\n",
    "plt.plot(time_array, audio_data, color='black', linewidth=1)  # Black line for simplicity\n",
    "plt.title('Amplitude vs. Time')\n",
    "plt.xlabel('Time [s]')\n",
    "plt.ylabel('Amplitude')\n",
    "plt.grid(True, which='both', linestyle='--', linewidth=0.5)  # Light grid for reference\n",
    "plt.tight_layout()\n",
    "\n",
    "# Show the plot\n",
    "plt.show()\n"
   ]
  },
  {
   "cell_type": "code",
   "execution_count": null,
   "metadata": {
    "ExecuteTime": {
     "end_time": "2024-10-05T14:48:54.443356Z",
     "start_time": "2024-10-05T14:48:54.020162Z"
    }
   },
   "outputs": [],
   "source": [
    "import numpy as np\n",
    "import matplotlib.pyplot as plt\n",
    "\n",
    "# Define parameters for the sine wave\n",
    "frequency = 2  # Frequency in Hz (cycles per second)\n",
    "sampling_rate = 1000  # Samples per second\n",
    "duration = 2  # Duration in seconds\n",
    "amplitude = 1  # Amplitude of the wave\n",
    "\n",
    "# Create the time array (x-axis)\n",
    "time_array = np.linspace(0, duration, int(sampling_rate * duration), endpoint=False)\n",
    "\n",
    "# Generate the sine wave (y-axis)\n",
    "sine_wave = amplitude * np.sin(2 * np.pi * frequency * time_array)\n",
    "\n",
    "# Plot the graph\n",
    "plt.figure(figsize=(8, 4))\n",
    "plt.plot(time_array, sine_wave, color='black', linewidth=2)  # Simple black line\n",
    "plt.title('Ideal Sine Wave')\n",
    "plt.xlabel('Time [s]')\n",
    "plt.ylabel('Amplitude')\n",
    "plt.grid(True, which='both', linestyle='--', linewidth=0.5)  # Light grid for guidance\n",
    "plt.xlim(0, 1)  # Limit x-axis to show one second for clarity\n",
    "plt.ylim(-1.5, 1.5)  # Limit y-axis to make the sine wave visually centered\n",
    "plt.tight_layout()\n",
    "\n",
    "# Show the plot\n",
    "plt.show()\n"
   ]
  }
 ],
 "metadata": {
  "kernelspec": {
   "display_name": ".venv",
   "language": "python",
   "name": "python3"
  },
  "language_info": {
   "codemirror_mode": {
    "name": "ipython",
    "version": 3
   },
   "file_extension": ".py",
   "mimetype": "text/x-python",
   "name": "python",
   "nbconvert_exporter": "python",
   "pygments_lexer": "ipython3",
   "version": "3.12.3"
  }
 },
 "nbformat": 4,
 "nbformat_minor": 2
}
