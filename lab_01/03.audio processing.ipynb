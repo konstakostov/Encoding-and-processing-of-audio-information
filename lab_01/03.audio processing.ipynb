{
 "cells": [
  {
   "cell_type": "markdown",
   "metadata": {},
   "source": [
    "## ***III. Аудио обработка***"
   ]
  },
  {
   "cell_type": "markdown",
   "metadata": {},
   "source": [
    "#### Обработка на аудио с филтри\n",
    "\n",
    "| Филтри                            | Описание                                                                                          |\n",
    "|-----------------------------------|---------------------------------------------------------------------------------------------------|\n",
    "| **Високочестотен (High-Pass)**   | Пропуска високи честоти над определена граница. Останалите честоти се затихват значително или отрязват. |\n",
    "| **Нискочестотен (Low-Pass)**     | Пропуска ниски честоти под определена граница. Останалите честоти се отрязват.                      |\n",
    "| **--- (High-Shelf)**  | Усилва или затихва честоти под определена граница.                                               |\n",
    "| **--- (Low-Shelf)**    | Усилва или затихва честоти под определена граница.                                               |\n",
    "| **Пиков (Peak)**                  | Усилва или затихва честоти около специфична централна честота. Има много по-тесен обхват от Low-Shelf и High-Shelf филтрите. |"
   ]
  },
  {
   "cell_type": "code",
   "metadata": {
    "ExecuteTime": {
     "end_time": "2024-10-10T02:20:15.648992Z",
     "start_time": "2024-10-10T02:20:14.783479Z"
    }
   },
   "source": [
    "from pedalboard import Pedalboard\n",
    "from pedalboard import HighpassFilter, HighShelfFilter, LowpassFilter, LowShelfFilter, PeakFilter\n",
    "from pedalboard.io import AudioFile\n",
    "from IPython.display import Audio\n",
    "\n",
    "\n",
    "# Make a Pedalboard object, containing multiple audio plugins:\n",
    "board = Pedalboard([\n",
    "    # HighpassFilter(\n",
    "    #     cutoff_frequency_hz=50\n",
    "    # ),\n",
    "    # LowpassFilter(\n",
    "    #     cutoff_frequency_hz=50\n",
    "    # ),\n",
    "    # HighShelfFilter(\n",
    "    #     cutoff_frequency_hz=440,\n",
    "    #     gain_db=0.0\n",
    "    # ),\n",
    "    # LowShelfFilter(\n",
    "    #     cutoff_frequency_hz=440,\n",
    "    #     gain_db=0.0\n",
    "    # ),\n",
    "    # PeakFilter(\n",
    "    #     cutoff_frequency_hz=440,\n",
    "    #     gain_db=0.0\n",
    "    # ),\n",
    "])\n",
    "\n",
    "# Open an audio file for reading, just like a regular file:\n",
    "with AudioFile('file_name.wav') as f:\n",
    "    # Open an audio file to write to:\n",
    "    with AudioFile('output_file_name.wav', 'w', f.samplerate, f.num_channels) as o:\n",
    "        # Read one second of audio at a time, until the file is empty:\n",
    "        while f.tell() < f.frames:\n",
    "            chunk = f.read(f.samplerate)\n",
    "\n",
    "            # Run the audio through our pedalboard:\n",
    "            effected = board(chunk, f.samplerate, reset=False)\n",
    "\n",
    "            # Write the output to our output file:\n",
    "            o.write(effected)\n",
    "\n",
    "print(\"Processing done!\")\n",
    "\n",
    "Audio('output_file_name.wav', rate=44_100)"
   ],
   "outputs": [
    {
     "ename": "ValueError",
     "evalue": "Failed to open audio file: file does not exist: file_name.wav",
     "output_type": "error",
     "traceback": [
      "\u001B[0;31m---------------------------------------------------------------------------\u001B[0m",
      "\u001B[0;31mValueError\u001B[0m                                Traceback (most recent call last)",
      "Cell \u001B[0;32mIn[1], line 28\u001B[0m\n\u001B[1;32m      6\u001B[0m board \u001B[38;5;241m=\u001B[39m Pedalboard([\n\u001B[1;32m      7\u001B[0m     \u001B[38;5;66;03m# HighpassFilter(\u001B[39;00m\n\u001B[1;32m      8\u001B[0m     \u001B[38;5;66;03m#     cutoff_frequency_hz=50\u001B[39;00m\n\u001B[0;32m   (...)\u001B[0m\n\u001B[1;32m     24\u001B[0m     \u001B[38;5;66;03m# ),\u001B[39;00m\n\u001B[1;32m     25\u001B[0m ])\n\u001B[1;32m     27\u001B[0m \u001B[38;5;66;03m# Open an audio file for reading, just like a regular file:\u001B[39;00m\n\u001B[0;32m---> 28\u001B[0m \u001B[38;5;28;01mwith\u001B[39;00m \u001B[43mAudioFile\u001B[49m\u001B[43m(\u001B[49m\u001B[38;5;124;43m'\u001B[39;49m\u001B[38;5;124;43mfile_name.wav\u001B[39;49m\u001B[38;5;124;43m'\u001B[39;49m\u001B[43m)\u001B[49m \u001B[38;5;28;01mas\u001B[39;00m f:\n\u001B[1;32m     29\u001B[0m     \u001B[38;5;66;03m# Open an audio file to write to:\u001B[39;00m\n\u001B[1;32m     30\u001B[0m     \u001B[38;5;28;01mwith\u001B[39;00m AudioFile(\u001B[38;5;124m'\u001B[39m\u001B[38;5;124moutput_file_name.wav\u001B[39m\u001B[38;5;124m'\u001B[39m, \u001B[38;5;124m'\u001B[39m\u001B[38;5;124mw\u001B[39m\u001B[38;5;124m'\u001B[39m, f\u001B[38;5;241m.\u001B[39msamplerate, f\u001B[38;5;241m.\u001B[39mnum_channels) \u001B[38;5;28;01mas\u001B[39;00m o:\n\u001B[1;32m     31\u001B[0m         \u001B[38;5;66;03m# Read one second of audio at a time, until the file is empty:\u001B[39;00m\n\u001B[1;32m     32\u001B[0m         \u001B[38;5;28;01mwhile\u001B[39;00m f\u001B[38;5;241m.\u001B[39mtell() \u001B[38;5;241m<\u001B[39m f\u001B[38;5;241m.\u001B[39mframes:\n",
      "\u001B[0;31mValueError\u001B[0m: Failed to open audio file: file does not exist: file_name.wav"
     ]
    }
   ],
   "execution_count": 1
  },
  {
   "cell_type": "markdown",
   "metadata": {},
   "source": [
    "#### Обработка на аудио с ефекти\n",
    "\n",
    "| Ефект         | Описание                                                                 |\n",
    "|---------------|--------------------------------------------------------------------------|\n",
    "| **Chorus**     | Симулира наличието на множество източници на звука в аудио сигнала. Имитира хорово звучене. |\n",
    "| **Reverb**    | Добавя реверберация на даден аудио сигнал.                             |\n",
    "| **Delay** | Внася закъснения в аудио сигнала.                                     |\n",
    "| **Gain**  | Усилва амплитудата на аудио сигнала.                                   |\n",
    "| **Distortion**| Внася нелинейни изкривявания в аудио сигнала.                         |\n",
    "| **Phaser**     | Променя фазите на аудио сигнал.                                        |\n",
    "| **Pitch Shift** | Измества основната височина на тона на аудио сигнала.         |\n",
    "| **Clipping**   | Отрязва амплитудата на сигнала, като по този начин се създава Distortion ефекта. |\n",
    "| **Compressor**  | Компресира аудио сигнала, като в резултат динамичният му обхват намалява. |\n",
    "\n"
   ]
  },
  {
   "cell_type": "code",
   "execution_count": null,
   "metadata": {},
   "outputs": [],
   "source": [
    "from pedalboard import Pedalboard\n",
    "from pedalboard import Chorus, Reverb, Delay, Gain, Distortion, Phaser, PitchShift, Clipping, Compressor\n",
    "from pedalboard.io import AudioFile\n",
    "from IPython.display import Audio\n",
    "\n",
    "\n",
    "# Make a Pedalboard object, containing multiple audio plugins:\n",
    "board = Pedalboard([\n",
    "    # Chorus(\n",
    "    #     rate_hz=1.0, \n",
    "    #     depth=0.25, \n",
    "    #     centre_delay_ms=7.0, \n",
    "    #     feedback=0.0, \n",
    "    #     mix=0.5\n",
    "    # ),\n",
    "    # Reverb(\n",
    "    #     room_size=0.5, \n",
    "    #     damping=0.5, \n",
    "    #     wet_level=0.33, \n",
    "    #     dry_level=0.4, \n",
    "    #     width=1.0, \n",
    "    #     freeze_mode=0.0\n",
    "    # ),\n",
    "    # Delay(\n",
    "    #     delay_seconds=0.5,\n",
    "    #     feedback=0.0,\n",
    "    #     mix=0.5,\n",
    "    # ),\n",
    "    # Gain(\n",
    "    #     gain_db=1.0,\n",
    "    # ),\n",
    "    # Distortion(\n",
    "    #     drive_db=25,\n",
    "    # ),\n",
    "    # Phaser(\n",
    "    #     rate_hz=1.0, \n",
    "    #     depth=0.5, \n",
    "    #     centre_frequency_hz=1300.0, \n",
    "    #     feedback=0.0, \n",
    "    #     mix=0.5\n",
    "    # ),\n",
    "    # PitchShift(\n",
    "    #     semitones=0.0,\n",
    "    # ),\n",
    "    # Clipping(\n",
    "    #     threshold_db=-6.0\n",
    "    # ),\n",
    "    # Compressor(\n",
    "    #     threshold_db=0, \n",
    "    #     ratio=1, \n",
    "    #     attack_ms=1.0, \n",
    "    #     release_ms=100\n",
    "    # ),\n",
    "])\n",
    "\n",
    "# Open an audio file for reading, just like a regular file:\n",
    "with AudioFile('file_name.wav') as f:\n",
    "    # Open an audio file to write to:\n",
    "    with AudioFile('output_file_name.wav', 'w', f.samplerate, f.num_channels) as o:\n",
    "        # Read one second of audio at a time, until the file is empty:\n",
    "        while f.tell() < f.frames:\n",
    "            chunk = f.read(f.samplerate)\n",
    "\n",
    "            # Run the audio through our pedalboard:\n",
    "            effected = board(chunk, f.samplerate, reset=False)\n",
    "\n",
    "            # Write the output to our output file:\n",
    "            o.write(effected)\n",
    "\n",
    "print(\"Processing done!\")\n",
    "\n",
    "Audio('output_file_name.wav', rate=44_100)"
   ]
  },
  {
   "cell_type": "markdown",
   "metadata": {},
   "source": [
    "#### Визуализация на обработените аудио файлове"
   ]
  },
  {
   "cell_type": "code",
   "execution_count": null,
   "metadata": {},
   "outputs": [],
   "source": [
    "from scipy.io import wavfile\n",
    "import numpy as np\n",
    "from matplotlib import pyplot as plt\n",
    "\n",
    "# Read the audio signal from a WAV file\n",
    "file_path = 'melody.wav'  # Replace it with the path to your audio file\n",
    "sampling_rate, audio_data = wavfile.read(file_path)\n",
    "\n",
    "# # If the audio data has 2 channels (stereo), convert it to mono by averaging the channels\n",
    "# if len(audio_data.shape) == 2:\n",
    "#     audio_data = np.mean(audio_data, axis=1)\n",
    "\n",
    "# Create a time array for the x-axis (time)\n",
    "duration = len(audio_data) / sampling_rate\n",
    "time_array = np.linspace(0, duration, len(audio_data))\n",
    "\n",
    "# Plot the Amplitude-Time Graph (Waveform)\n",
    "plt.figure(figsize=(10, 4))\n",
    "plt.plot(time_array, audio_data)\n",
    "plt.title('Amplitude-Time Graph (Waveform)')\n",
    "plt.xlabel('Time [s]')\n",
    "plt.ylabel('Amplitude')\n",
    "plt.grid(True)\n",
    "plt.tight_layout()\n",
    "plt.show()"
   ]
  }
 ],
 "metadata": {
  "language_info": {
   "name": "python"
  },
  "kernelspec": {
   "name": "python3",
   "language": "python",
   "display_name": "Python 3 (ipykernel)"
  }
 },
 "nbformat": 4,
 "nbformat_minor": 2
}
