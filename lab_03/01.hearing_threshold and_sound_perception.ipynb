{
 "cells": [
  {
   "metadata": {},
   "cell_type": "markdown",
   "source": "# Праг на чуваемост и звуково възприятие",
   "id": "fb678dc676289ec5"
  },
  {
   "metadata": {},
   "cell_type": "markdown",
   "source": "#### Import required libraries",
   "id": "ce0ec40b63ce743c"
  },
  {
   "cell_type": "code",
   "id": "initial_id",
   "metadata": {
    "collapsed": true
   },
   "source": [
    "import numpy as np\n",
    "import matplotlib.pyplot as plt\n",
    "from IPython.display import Audio"
   ],
   "outputs": [],
   "execution_count": null
  },
  {
   "metadata": {},
   "cell_type": "markdown",
   "source": [
    "### Задачи за изпълнение\n",
    "\n",
    "#### Генерирайте синусоидални сигнал със следните параметри: \n",
    "\n",
    "##### **Стъпка 1. Генериране на синусоидална вълна**\n",
    "- Честота на дискретизация: 44 100 Hz;\n",
    "- Продължителност: 10 ms;\n",
    "- Честота: 500, 1000 и 5000 Hz;\n",
    "- Не забравяйте да изчислите t (time array).\n",
    "\n",
    "##### **Стъпка 2. Генерирайте графики на получените синусоидални вълни**\n",
    "Изчертайте 3те графики в една обща визуализация. Използвайте кода отдолу за помощ при изчертаването на графиките.\n",
    "Запазете полученият резултат."
   ],
   "id": "e26b6213b1fd3d4b"
  },
  {
   "metadata": {},
   "cell_type": "code",
   "source": [
    "# Sampling rate in Hz\n",
    "?\n",
    "\n",
    "# Duration in seconds\n",
    "?\n",
    "\n",
    "# Time array\n",
    "?\n",
    "\n",
    "# First sine wave\n",
    "?\n",
    "\n",
    "# Second sine wave\n",
    "?\n",
    "\n",
    "# Third sine wave\n",
    "?\n",
    "\n",
    "# Plotting the sine waves\n",
    "plt.figure(figsize=(10, 6))\n",
    "\n",
    "plt.subplot(3, 1, 1)\n",
    "plt.plot(?, ?)\n",
    "plt.title('Sine Wave at 500 Hz')\n",
    "plt.xlabel('Time [s]')\n",
    "plt.ylabel('Amplitude')\n",
    "plt.grid(True)\n",
    "\n",
    "plt.subplot(3, 1, 2)\n",
    "plt.plot(?, ?)\n",
    "plt.title('Sine Wave at 1000 Hz')\n",
    "plt.xlabel('Time [s]')\n",
    "plt.ylabel('Amplitude')\n",
    "plt.grid(True)\n",
    "\n",
    "plt.subplot(3, 1, 3)\n",
    "plt.plot(?, ?)\n",
    "plt.title('Sine Wave at 5000 Hz')\n",
    "plt.xlabel('Time [s]')\n",
    "plt.ylabel('Amplitude')\n",
    "plt.grid(True)\n",
    "\n",
    "plt.tight_layout()\n",
    "plt.show()\n"
   ],
   "id": "329cf8a2cdd07c46",
   "outputs": [],
   "execution_count": null
  },
  {
   "metadata": {},
   "cell_type": "markdown",
   "source": [
    "### Задачи за изпълнение\n",
    "\n",
    "#### Генерирайте синусоидални сигнал с различни амплитуди:\n",
    "\n",
    "##### **Стъпка 1. Генериране на синусоидална вълна** \n",
    "- Честота на дискретизация: 44 100 Hz;\n",
    "- Продължителност: 2 s;\n",
    "- Не забравяйте да изчислите t (time array).\n",
    "- Честота: 3 честоти по избор;\n",
    "- Амплитуда: 3 стойности, които да отговарят на условието `0 < amplitude <= 1`\n",
    "##### **Стъпка 2. Конкатенирайте трите синусоидални вълни** \n",
    "##### **Стъпка 3. Генерирайте графики та получената синусоидална вълна** \n",
    "Запазете полученият резултат.\n",
    "\n",
    "Tip: `sine_wave = amplitude * np.sin(2 * np.pi * frequency * time_array + phase)`"
   ],
   "id": "e5d4bae30d65b759"
  },
  {
   "metadata": {},
   "cell_type": "code",
   "source": [
    "# Sampling rate in Hz\n",
    "?\n",
    "\n",
    "# Duration in seconds\n",
    "?\n",
    "\n",
    "# Time array\n",
    "?\n",
    "\n",
    "# First sine wave frequency and amplitude\n",
    "?\n",
    "?\n",
    "\n",
    "# Second sine wave frequency and amplitude\n",
    "?\n",
    "?\n",
    "\n",
    "# Third sine wave frequency and amplitude\n",
    "?\n",
    "?\n",
    "\n",
    "# Generate the three sine waves\n",
    "?\n",
    "?\n",
    "?\n",
    "\n",
    "# Concatenate the waves sequentially\n",
    "combined_wave = np.concatenate((?, ?, ?))\n",
    "\n",
    "# Visualize the concatenated wave\n",
    "plt.figure(figsize=(10, 4))\n",
    "plt.plot(np.linspace(0, 6, len(combined_wave)), combined_wave)\n",
    "plt.title('Concatenated Sine Waves')\n",
    "plt.xlabel('Time [s]')\n",
    "plt.ylabel('Amplitude')\n",
    "plt.grid(True)\n",
    "plt.show()\n",
    "\n",
    "# Play the concatenated wave sound in Jupyter\n",
    "Audio(?, rate=?)"
   ],
   "id": "7592db3b8100602a",
   "outputs": [],
   "execution_count": null
  },
  {
   "metadata": {},
   "cell_type": "markdown",
   "source": [
    "### Задачи за изпълнение\n",
    "\n",
    "#### Генерирайте синусоидални сигнал и установете чуваем диапазон\n",
    "\n",
    "##### **Стъпка 1. Генериране на синусоидална вълна** \n",
    "- Честота на дискретизация: 44 100 Hz;\n",
    "- Продължителност: 2 s;\n",
    "- Не забравяйте да изчислите t (time array).\n",
    "- Честота: най-ниската и най-високата чуваема за вас.\n",
    "##### **Стъпка 2. Прослушайте резултата** "
   ],
   "id": "91df29f1234a7374"
  },
  {
   "metadata": {},
   "cell_type": "code",
   "source": [
    "# Sampling rate in Hz\n",
    "?\n",
    "\n",
    "# Duration in seconds\n",
    "?\n",
    "\n",
    "# Frequency\n",
    "?\n",
    "\n",
    "# Time array\n",
    "?\n",
    "\n",
    "# Sine wave\n",
    "?\n",
    "\n",
    "Audio(?, rate=?)"
   ],
   "id": "7813d36c1861091d",
   "outputs": [],
   "execution_count": null
  }
 ],
 "metadata": {
  "kernelspec": {
   "display_name": "Python 3",
   "language": "python",
   "name": "python3"
  },
  "language_info": {
   "codemirror_mode": {
    "name": "ipython",
    "version": 2
   },
   "file_extension": ".py",
   "mimetype": "text/x-python",
   "name": "python",
   "nbconvert_exporter": "python",
   "pygments_lexer": "ipython2",
   "version": "2.7.6"
  }
 },
 "nbformat": 4,
 "nbformat_minor": 5
}
