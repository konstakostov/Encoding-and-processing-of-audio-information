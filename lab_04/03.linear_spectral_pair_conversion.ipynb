{
 "cells": [
  {
   "metadata": {},
   "cell_type": "markdown",
   "source": "# Преобразуване и свойства на линейна спектрална двойка (Linear Spectral Pair, *LSP*)\n",
   "id": "ad742b1baf3352d8"
  },
  {
   "metadata": {},
   "cell_type": "markdown",
   "source": [
    "### Задача за изпълнение\n",
    "#### ААА"
   ],
   "id": "9d5d6d4e21f6ace9"
  },
  {
   "metadata": {},
   "cell_type": "markdown",
   "source": "#### Import required libraries",
   "id": "d88c3b4add5964b0"
  },
  {
   "metadata": {},
   "cell_type": "code",
   "outputs": [],
   "execution_count": null,
   "source": [
    "import numpy as np\n",
    "import scipy.io.wavfile as wavfile\n",
    "from scipy.linalg import toeplitz\n",
    "import matplotlib.pyplot as plt\n",
    "from IPython.display import Audio"
   ],
   "id": "3e895afe61ca67e5"
  },
  {
   "metadata": {},
   "cell_type": "markdown",
   "source": "",
   "id": "46c62cb735cf74e4"
  },
  {
   "metadata": {},
   "cell_type": "code",
   "outputs": [],
   "execution_count": null,
   "source": "",
   "id": "aed0077e2da51445"
  }
 ],
 "metadata": {
  "kernelspec": {
   "display_name": "Python 3",
   "language": "python",
   "name": "python3"
  },
  "language_info": {
   "codemirror_mode": {
    "name": "ipython",
    "version": 2
   },
   "file_extension": ".py",
   "mimetype": "text/x-python",
   "name": "python",
   "nbconvert_exporter": "python",
   "pygments_lexer": "ipython2",
   "version": "2.7.6"
  }
 },
 "nbformat": 4,
 "nbformat_minor": 5
}
