{
 "cells": [
  {
   "metadata": {},
   "cell_type": "markdown",
   "source": "# Синтезиране на речеви сигнали\n",
   "id": "687ba67cd529f40"
  },
  {
   "metadata": {},
   "cell_type": "markdown",
   "source": [
    "### Задача за изпълнение\n",
    "#### АААА"
   ],
   "id": "65111d486f22beba"
  },
  {
   "metadata": {},
   "cell_type": "markdown",
   "source": "#### Import required libraries",
   "id": "a28412e30206cc62"
  },
  {
   "metadata": {},
   "cell_type": "code",
   "outputs": [],
   "execution_count": null,
   "source": [
    "import numpy as np\n",
    "import scipy.io.wavfile as wavfile\n",
    "from scipy.linalg import toeplitz\n",
    "import matplotlib.pyplot as plt\n",
    "from IPython.display import Audio"
   ],
   "id": "9f3403d5da265c5f"
  },
  {
   "metadata": {},
   "cell_type": "markdown",
   "source": "",
   "id": "e06e7caca8aa3083"
  },
  {
   "cell_type": "code",
   "execution_count": null,
   "id": "initial_id",
   "metadata": {
    "collapsed": true
   },
   "outputs": [],
   "source": ""
  }
 ],
 "metadata": {
  "kernelspec": {
   "display_name": "Python 3",
   "language": "python",
   "name": "python3"
  },
  "language_info": {
   "codemirror_mode": {
    "name": "ipython",
    "version": 2
   },
   "file_extension": ".py",
   "mimetype": "text/x-python",
   "name": "python",
   "nbconvert_exporter": "python",
   "pygments_lexer": "ipython2",
   "version": "2.7.6"
  }
 },
 "nbformat": 4,
 "nbformat_minor": 5
}
