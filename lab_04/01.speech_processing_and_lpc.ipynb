{
 "cells": [
  {
   "metadata": {},
   "cell_type": "markdown",
   "source": "# Въведение в линейното предсказване и речевите сигнали\n",
   "id": "6a71ceb5e0d0441"
  },
  {
   "metadata": {},
   "cell_type": "markdown",
   "source": [
    "### Задача за изпълнение\n",
    "#### Анализиране на речеви сигнал с LPC"
   ],
   "id": "5cf40218c6c677de"
  },
  {
   "metadata": {},
   "cell_type": "markdown",
   "source": "#### Import required libraries",
   "id": "c7f04545c4c4feab"
  },
  {
   "cell_type": "code",
   "id": "initial_id",
   "metadata": {
    "collapsed": true
   },
   "source": [
    "import numpy as np\n",
    "import scipy.io.wavfile as wavfile\n",
    "from scipy.linalg import toeplitz\n",
    "import matplotlib.pyplot as plt\n",
    "from IPython.display import Audio"
   ],
   "outputs": [],
   "execution_count": null
  },
  {
   "metadata": {},
   "cell_type": "markdown",
   "source": [
    "#### **Step 1. Load WAV file**\n",
    "- Load WAV file: The speech signal is loaded from the specified file path, extracting the sampling rate and audio signal.\n",
    "- Convert to Mono: If the audio is stereo (two channels), the code averages the two channels to create a mono signal. This simplifies the analysis and processing since LPC typically works with single-channel audio.\n"
   ],
   "id": "779abaffd788d45a"
  },
  {
   "metadata": {},
   "cell_type": "code",
   "source": [
    "# Replace it with a correct local path\n",
    "file_path = 'speech_samples/???????????'  \n",
    "sampling_rate, signal = wavfile.read(file_path)\n",
    "\n",
    "# Convert stereo to mono if necessary.\n",
    "# Check if the signal has more than one channel\n",
    "if len(signal.shape) > 1:\n",
    "    # Average the two channels\n",
    "    signal = np.mean(signal, axis=1)"
   ],
   "id": "e8109238ac513779",
   "outputs": [],
   "execution_count": null
  },
  {
   "metadata": {},
   "cell_type": "markdown",
   "source": [
    "#### **Step 2. Display basic information**\n",
    "- Basic Information: This section prints key details about the loaded audio signal:\n",
    "    - Sampling Rate: The number of samples per second.\n",
    "    - Signal Length: The total number of samples in the audio signal.\n",
    "    - Signal Shape and Data Type: Provides information on the array's dimensions and the type of data it contains.\n",
    "- Duration Calculation: The duration of the audio in seconds is calculated by dividing the total number of samples by the sampling rate.\n",
    "- Energy Calculation: The energy of the signal is computed as the sum of the squares of the signal's amplitudes, providing an indication of the signal's strength."
   ],
   "id": "fbea312f7eb29ae"
  },
  {
   "metadata": {},
   "cell_type": "code",
   "source": [
    "print(f\"Sampling Rate: {sampling_rate} Hz\")\n",
    "print(f\"Signal Length: {len(signal)} samples\")\n",
    "print(f\"Signal shape: {signal.shape}, Data type: {signal.dtype}\")\n",
    "\n",
    "# Calculate the duration of the signal in seconds\n",
    "duration = len(signal) / sampling_rate\n",
    "print(f\"Duration: {duration:.2f} seconds\")\n",
    "\n",
    "# Calculate the energy of the signal\n",
    "energy = sum(signal**2)\n",
    "print(f\"Energy of the Signal: {energy}\")"
   ],
   "id": "e17496919869591f",
   "outputs": [],
   "execution_count": null
  },
  {
   "metadata": {},
   "cell_type": "markdown",
   "source": [
    "#### **Step 3. Compute the LPC residual**\n",
    "- Define LPC Order: The variable p sets the order of the LPC model, which usually ranges from 10 to 20 for speech signals.\n",
    "- Auto-correlation Function: A custom function, autocorr, calculates the auto-correlation of the signal for a specified number of lags. This is essential for determining how similar the signal is to itself at different time intervals.\n",
    "- Compute Auto-correlation Sequence: The auto-correlation sequence is computed for the first p lags.\n",
    "- Calculate LPC Coefficients: The LPC coefficients are calculated using the Levinson-Durbin algorithm, which efficiently solves the normal equations derived from the auto-correlation sequence. The first coefficient is set to 1 by convention.\n",
    "- Predicted Signal Calculation: The predicted signal is computed using the LPC coefficients by iterating through the original signal and applying the LPC model.\n",
    "- Residual Calculation: The residual is the difference between the original signal and the predicted signal, representing the prediction error."
   ],
   "id": "56c71848557b33d9"
  },
  {
   "metadata": {},
   "cell_type": "code",
   "source": [
    "p = 12  # typically 10-20 for speech\n",
    "\n",
    "# Calculate the auto-correlation of the signal\n",
    "def autocorr(x, lag):\n",
    "    result = np.correlate(x, x, mode='full')\n",
    "    return result[len(result)//2:len(result)//2+lag]\n",
    "\n",
    "# Compute the auto-correlation sequence for the first p lags\n",
    "r = autocorr(signal, p+1)\n",
    "\n",
    "# Solve the normal equations using Levinson-Durbin recursion to get LPC coefficients\n",
    "# r[0] is the energy, r[1:p+1] are the autocorrelations\n",
    "a = np.linalg.solve(toeplitz(r[:p]), -r[1:p+1])\n",
    "a = np.concatenate(([1], a))  # the first coefficient is always 1\n",
    "\n",
    "print(f\"LPC Coefficients: \\n{a}\")\n",
    "\n",
    "# Compute the LPC predicted signal\n",
    "predicted_signal = np.zeros(len(signal))\n",
    "for n in range(p, len(signal)):\n",
    "    predicted_signal[n] = sum(a[i] * signal[n - i - 1] for i in range(p))\n",
    "\n",
    "# Compute the LPC residual (prediction error)\n",
    "residual = signal - predicted_signal"
   ],
   "id": "d5ee498855e1b70f",
   "outputs": [],
   "execution_count": null
  },
  {
   "metadata": {},
   "cell_type": "markdown",
   "source": [
    "#### **Step 4. Create a double plot (subplots)**\n",
    "- Normalization: The residual and difference signals are normalized to a range of [-1, 1] for better visualization in plots.\n",
    "- Subplot Creation: A figure with three subplots is created to visualize:\n",
    "    - The original speech signal.\n",
    "    - The LPC residual signal, showing the prediction error.\n",
    "    - The difference signal between the original and predicted signals.\n",
    "- Layout Adjustment: The tight_layout function is called to ensure that subplots do not overlap."
   ],
   "id": "aa623dd9487d581d"
  },
  {
   "metadata": {},
   "cell_type": "code",
   "source": [
    "# Normalize residual for plotting\n",
    "residual = residual / np.max(np.abs(residual))  # Normalize to the range [-1, 1]\n",
    "\n",
    "# Compute the difference between the original signal and predicted signal\n",
    "difference = signal - predicted_signal  # This is the correct difference signal\n",
    "\n",
    "# Normalize the difference for plotting\n",
    "difference = difference / np.max(np.abs(difference))  # Normalize to the range [-1, 1]\n",
    "\n",
    "plt.figure(figsize=(12, 12))  # Increased figure height for better clarity\n",
    "\n",
    "# Plot original signal\n",
    "plt.subplot(3, 1, 1)  # 3 rows, 1 column, 1st subplot\n",
    "plt.plot(signal, color='blue')\n",
    "plt.title('Original Speech Signal')\n",
    "plt.xlabel('Sample Index')\n",
    "plt.ylabel('Amplitude')\n",
    "plt.grid()\n",
    "\n",
    "# Plot LPC residual signal\n",
    "plt.subplot(3, 1, 2)  # 3 rows, 1 column, 2nd subplot\n",
    "plt.plot(residual, color='orange')\n",
    "plt.title('LPC Residual Signal')\n",
    "plt.xlabel('Sample Index')\n",
    "plt.ylabel('Amplitude')\n",
    "plt.grid()\n",
    "\n",
    "# Plot difference between original signal and predicted signal\n",
    "plt.subplot(3, 1, 3)  # 3 rows, 1 column, 3rd subplot\n",
    "plt.plot(difference, color='green')\n",
    "plt.title('Difference between Original Signal and Predicted Signal')\n",
    "plt.xlabel('Sample Index')\n",
    "plt.ylabel('Amplitude')\n",
    "plt.grid()\n",
    "\n",
    "# Adjust layout to prevent overlap\n",
    "plt.tight_layout()\n",
    "plt.show()"
   ],
   "id": "d3aac17e4586f1cd",
   "outputs": [],
   "execution_count": null
  },
  {
   "metadata": {},
   "cell_type": "markdown",
   "source": [
    "#### **Step 5. Save the LPC residual to a new WAV file**\n",
    "- File Naming: The code constructs a new filename for the LPC residual by appending _lpc_residual to the original file name (without extension).\n",
    "- Saving the Residual: The residual signal is saved as a new WAV file using 16-bit PCM format, allowing for easy playback and further analysis."
   ],
   "id": "97ac00147efc6603"
  },
  {
   "metadata": {},
   "cell_type": "code",
   "source": [
    "# Generate new filename based on the original file name\n",
    "original_file_name = file_path.split('/')[-1].split('.')[0]  # Extract the original filename without extension\n",
    "output_file_name = f\"{original_file_name}_lpc_residual.wav\"  # New filename\n",
    "output_file_path = f\"speech_samples/{output_file_name}\"  # Specify the output file path\n",
    "\n",
    "# Save as 16-bit PCM\n",
    "wavfile.write(output_file_path, sampling_rate, (residual * 32767).astype(np.int16))  \n",
    "print(f\"LPC residual saved as: {output_file_path}\")"
   ],
   "id": "2d4fc306d479dbfc",
   "outputs": [],
   "execution_count": null
  },
  {
   "metadata": {},
   "cell_type": "markdown",
   "source": [
    "#### **Step 6.1. Save the LPC residual to a new WAV file**\n",
    "- Original Signal Playback: The original audio signal is prepared for playback, allowing the user to listen to it directly in the Jupyter notebook."
   ],
   "id": "104628ffbb7debc8"
  },
  {
   "metadata": {},
   "cell_type": "code",
   "source": [
    "# Task 6.1: Playback options for both original and LPC residual signals\n",
    "print(\"Playback of the original signal:\")\n",
    "\n",
    "# Original audio playback\n",
    "Audio(signal, rate=sampling_rate, normalize=True)"
   ],
   "id": "a4f9b79a964536d4",
   "outputs": [],
   "execution_count": null
  },
  {
   "metadata": {},
   "cell_type": "markdown",
   "source": [
    "#### **Стъпка 6.2. Save the LPC residual to a new WAV file**\n",
    "- LPC Residual Playback: Similarly, the LPC residual signal is prepared for playback, allowing the user to listen to the audio after LPC processing."
   ],
   "id": "77b89cfbc9bbbc6d"
  },
  {
   "metadata": {},
   "cell_type": "code",
   "source": [
    "# Task 6.1: Playback options for both original and LPC residual signals\n",
    "print(\"Playback of the LPC residual audio signal:\")\n",
    "\n",
    "# LPC residual audio playback\n",
    "Audio(residual, rate=sampling_rate, normalize=True)"
   ],
   "id": "e6640cc8ab15deb",
   "outputs": [],
   "execution_count": null
  }
 ],
 "metadata": {
  "kernelspec": {
   "display_name": "Python 3",
   "language": "python",
   "name": "python3"
  },
  "language_info": {
   "codemirror_mode": {
    "name": "ipython",
    "version": 2
   },
   "file_extension": ".py",
   "mimetype": "text/x-python",
   "name": "python",
   "nbconvert_exporter": "python",
   "pygments_lexer": "ipython2",
   "version": "2.7.6"
  }
 },
 "nbformat": 4,
 "nbformat_minor": 5
}
