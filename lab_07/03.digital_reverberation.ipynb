{
 "cells": [
  {
   "metadata": {},
   "cell_type": "markdown",
   "source": "# Digital Reverberator",
   "id": "ad271f8302e43ccb"
  },
  {
   "metadata": {},
   "cell_type": "markdown",
   "source": "#### Import required libraries",
   "id": "6e1b28660565adc5"
  },
  {
   "cell_type": "code",
   "id": "initial_id",
   "metadata": {
    "collapsed": true
   },
   "source": [
    "import numpy as np\n",
    "import scipy.io.wavfile as wav\n",
    "import matplotlib.pyplot as plt\n",
    "from scipy.signal import lfilter\n",
    "from scipy.signal.windows import hamming\n",
    "from scipy.linalg import solve_toeplitz"
   ],
   "outputs": [],
   "execution_count": null
  },
  {
   "metadata": {},
   "cell_type": "markdown",
   "source": [
    "#### Title\n",
    "\n",
    "##### **Step 1. **\n",
    "\n",
    "\n",
    "##### **Step 2. **\n",
    "\n",
    "\n",
    "##### **Step 3. **\n",
    "\n",
    "\n",
    "##### **Step 4. **\n",
    "\n",
    "\n",
    "#### **Tips**:\n"
   ],
   "id": "33becbd5a2ebba75"
  },
  {
   "metadata": {},
   "cell_type": "code",
   "source": "",
   "id": "199963474809dedf",
   "outputs": [],
   "execution_count": null
  },
  {
   "metadata": {},
   "cell_type": "markdown",
   "source": [
    "#### Title\n",
    "\n",
    "##### **Step 1. **\n",
    "\n",
    "\n",
    "##### **Step 2. **\n",
    "\n",
    "\n",
    "##### **Step 3. **\n",
    "\n",
    "\n",
    "##### **Step 4. **\n",
    "\n",
    "\n",
    "#### **Tips**:\n"
   ],
   "id": "400aec39c889b9f9"
  },
  {
   "metadata": {},
   "cell_type": "code",
   "source": "",
   "id": "b6d9b137f7e2e77",
   "outputs": [],
   "execution_count": null
  },
  {
   "metadata": {},
   "cell_type": "markdown",
   "source": [
    "#### Title\n",
    "\n",
    "##### **Step 1. **\n",
    "\n",
    "\n",
    "##### **Step 2. **\n",
    "\n",
    "\n",
    "##### **Step 3. **\n",
    "\n",
    "\n",
    "##### **Step 4. **\n",
    "\n",
    "\n",
    "#### **Tips**:\n"
   ],
   "id": "8e44645e4d9528fe"
  },
  {
   "metadata": {},
   "cell_type": "code",
   "source": "",
   "id": "255e46aa5aca7247",
   "outputs": [],
   "execution_count": null
  }
 ],
 "metadata": {
  "kernelspec": {
   "display_name": "Python 3",
   "language": "python",
   "name": "python3"
  },
  "language_info": {
   "codemirror_mode": {
    "name": "ipython",
    "version": 2
   },
   "file_extension": ".py",
   "mimetype": "text/x-python",
   "name": "python",
   "nbconvert_exporter": "python",
   "pygments_lexer": "ipython2",
   "version": "2.7.6"
  }
 },
 "nbformat": 4,
 "nbformat_minor": 5
}
